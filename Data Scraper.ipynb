{
 "cells": [
  {
   "cell_type": "code",
   "execution_count": 1,
   "metadata": {},
   "outputs": [],
   "source": [
    "from bs4 import BeautifulSoup\n",
    "import dryscrape\n",
    "import requests\n",
    "import tabula\n",
    "import json"
   ]
  },
  {
   "cell_type": "code",
   "execution_count": 8,
   "metadata": {},
   "outputs": [
    {
     "name": "stdout",
     "output_type": "stream",
     "text": [
      "[\"[{\\\"County\\\":\\\"Barnstable\\\",\\\"Cases\\\":405},{\\\"County\\\":\\\"Berkshire\\\",\\\"Cases\\\":278},{\\\"County\\\":\\\"Bristol\\\",\\\"Cases\\\":768},{\\\"County\\\":\\\"Dukes\\\",\\\"Cases\\\":9},{\\\"County\\\":\\\"Essex\\\",\\\"Cases\\\":1841},{\\\"County\\\":\\\"Franklin\\\",\\\"Cases\\\":118},{\\\"County\\\":\\\"Hampden\\\",\\\"Cases\\\":997},{\\\"County\\\":\\\"Hampshire\\\",\\\"Cases\\\":158},{\\\"County\\\":\\\"Middlesex\\\",\\\"Cases\\\":3187},{\\\"County\\\":\\\"Nantucket\\\",\\\"Cases\\\":9},{\\\"County\\\":\\\"Norfolk\\\",\\\"Cases\\\":1592},{\\\"County\\\":\\\"Plymouth\\\",\\\"Cases\\\":1194},{\\\"County\\\":\\\"Suffolk\\\",\\\"Cases\\\":3245},{\\\"County\\\":\\\"Worcester\\\",\\\"Cases\\\":1172},{\\\"County\\\":\\\"Unknown\\\",\\\"Cases\\\":229}]\", \"[{\\\"Sex\\\":\\\"Female\\\",\\\"Cases\\\":7995},{\\\"Sex\\\":\\\"Male\\\",\\\"Cases\\\":7161},{\\\"Sex\\\":\\\"Unknown\\\",\\\"Cases\\\":46}]\", \"[{\\\"Age Group\\\":\\\"\\\\u226419 years of age\\\",\\\"Cases\\\":338},{\\\"Age Group\\\":\\\"20-29 years of age\\\",\\\"Cases\\\":2013},{\\\"Age Group\\\":\\\"30-39 years of age\\\",\\\"Cases\\\":2389},{\\\"Age Group\\\":\\\"40-49 years of age\\\",\\\"Cases\\\":2408},{\\\"Age Group\\\":\\\"50-59 years of age\\\",\\\"Cases\\\":2886},{\\\"Age Group\\\":\\\"60-69 years of age\\\",\\\"Cases\\\":2148},{\\\"Age Group\\\":\\\"70-79 years of age\\\",\\\"Cases\\\":1381},{\\\"Age Group\\\":\\\"\\\\u2265 80 years of age\\\",\\\"Cases\\\":1639}]\", \"[{\\\"Deaths\\\":\\\"Attributed to COVID-19\\\",\\\"Cases\\\":356}]\", \"[{\\\"COVID-19 Cases in Long-Term Care Facilities*\\\":\\\"Residents\\\\/Healthcare workers of Long-\\\",\\\"Cases\\\":958.0},{\\\"COVID-19 Cases in Long-Term Care Facilities*\\\":\\\"Long-Term Care Facilities Reporting At\\\",\\\"Cases\\\":129.0}]\", \"[{\\\"Hospitalization\\\":\\\"Patient was hospitalized\\\",\\\"Cases\\\":1435},{\\\"Hospitalization\\\":\\\"Patient was not hospitalized\\\",\\\"Cases\\\":4316},{\\\"Hospitalization\\\":\\\"Under Investigation\\\",\\\"Cases\\\":9451}]\", \"[{\\\"Reported Deaths \\\\u2013 April 7, 2020\\\":\\\"Sex Age County\\\",\\\"Cases\\\":\\\"Preexisting Conditions\\\",\\\"Unnamed: 1\\\":\\\"Hospitalize\\\"},{\\\"Reported Deaths \\\\u2013 April 7, 2020\\\":\\\"Male 40s Franklin\\\",\\\"Cases\\\":\\\"Yes\\\",\\\"Unnamed: 1\\\":\\\"Yes\\\"},{\\\"Reported Deaths \\\\u2013 April 7, 2020\\\":\\\"Male 50s Plymouth\\\",\\\"Cases\\\":\\\"Unknown\\\",\\\"Unnamed: 1\\\":\\\"Yes\\\"},{\\\"Reported Deaths \\\\u2013 April 7, 2020\\\":\\\"Male 50s Berkshire\\\",\\\"Cases\\\":\\\"Unknown\\\",\\\"Unnamed: 1\\\":\\\"Yes\\\"},{\\\"Reported Deaths \\\\u2013 April 7, 2020\\\":\\\"Male 50s Plymouth\\\",\\\"Cases\\\":\\\"Unknown\\\",\\\"Unnamed: 1\\\":\\\"Unknown\\\"},{\\\"Reported Deaths \\\\u2013 April 7, 2020\\\":\\\"Female 50s Essex\\\",\\\"Cases\\\":\\\"Unknown\\\",\\\"Unnamed: 1\\\":\\\"Yes\\\"},{\\\"Reported Deaths \\\\u2013 April 7, 2020\\\":\\\"Male 60s Plymouth\\\",\\\"Cases\\\":\\\"Yes\\\",\\\"Unnamed: 1\\\":\\\"Yes\\\"},{\\\"Reported Deaths \\\\u2013 April 7, 2020\\\":\\\"Male 60s Franklin\\\",\\\"Cases\\\":\\\"Unknown\\\",\\\"Unnamed: 1\\\":\\\"Yes\\\"},{\\\"Reported Deaths \\\\u2013 April 7, 2020\\\":\\\"Female 60s Hampden\\\",\\\"Cases\\\":\\\"Yes\\\",\\\"Unnamed: 1\\\":\\\"Yes\\\"},{\\\"Reported Deaths \\\\u2013 April 7, 2020\\\":\\\"Female 60s Franklin\\\",\\\"Cases\\\":\\\"Unknown\\\",\\\"Unnamed: 1\\\":\\\"Yes\\\"},{\\\"Reported Deaths \\\\u2013 April 7, 2020\\\":\\\"Male 60s Middlesex\\\",\\\"Cases\\\":\\\"Yes\\\",\\\"Unnamed: 1\\\":\\\"Yes\\\"},{\\\"Reported Deaths \\\\u2013 April 7, 2020\\\":\\\"Female 60s Hampden\\\",\\\"Cases\\\":\\\"Unknown\\\",\\\"Unnamed: 1\\\":\\\"Yes\\\"},{\\\"Reported Deaths \\\\u2013 April 7, 2020\\\":\\\"Male 60s Essex\\\",\\\"Cases\\\":\\\"Unknown\\\",\\\"Unnamed: 1\\\":\\\"Yes\\\"},{\\\"Reported Deaths \\\\u2013 April 7, 2020\\\":\\\"Female 60s Hampden\\\",\\\"Cases\\\":\\\"Yes\\\",\\\"Unnamed: 1\\\":\\\"Yes\\\"},{\\\"Reported Deaths \\\\u2013 April 7, 2020\\\":\\\"Male 60s Middlesex\\\",\\\"Cases\\\":\\\"Yes\\\",\\\"Unnamed: 1\\\":\\\"Yes\\\"},{\\\"Reported Deaths \\\\u2013 April 7, 2020\\\":\\\"Female 60s Suffolk\\\",\\\"Cases\\\":\\\"Yes\\\",\\\"Unnamed: 1\\\":\\\"Yes\\\"},{\\\"Reported Deaths \\\\u2013 April 7, 2020\\\":\\\"Male 70s Bristol\\\",\\\"Cases\\\":\\\"Unknown\\\",\\\"Unnamed: 1\\\":\\\"Yes\\\"},{\\\"Reported Deaths \\\\u2013 April 7, 2020\\\":\\\"Male 70s Barnstable\\\",\\\"Cases\\\":\\\"No\\\",\\\"Unnamed: 1\\\":\\\"Yes\\\"},{\\\"Reported Deaths \\\\u2013 April 7, 2020\\\":\\\"Male 70s Essex\\\",\\\"Cases\\\":\\\"Unknown\\\",\\\"Unnamed: 1\\\":\\\"Unknown\\\"},{\\\"Reported Deaths \\\\u2013 April 7, 2020\\\":\\\"Male 70s Suffolk\\\",\\\"Cases\\\":\\\"Yes\\\",\\\"Unnamed: 1\\\":\\\"Yes\\\"},{\\\"Reported Deaths \\\\u2013 April 7, 2020\\\":\\\"Female 70s Bristol\\\",\\\"Cases\\\":\\\"Unknown\\\",\\\"Unnamed: 1\\\":\\\"Yes\\\"},{\\\"Reported Deaths \\\\u2013 April 7, 2020\\\":\\\"Male 70s Berkshire\\\",\\\"Cases\\\":\\\"Unknown\\\",\\\"Unnamed: 1\\\":\\\"Unknown\\\"},{\\\"Reported Deaths \\\\u2013 April 7, 2020\\\":\\\"Male 70s Barnstable\\\",\\\"Cases\\\":\\\"Yes\\\",\\\"Unnamed: 1\\\":\\\"Yes\\\"},{\\\"Reported Deaths \\\\u2013 April 7, 2020\\\":\\\"Female 70s Essex\\\",\\\"Cases\\\":\\\"Unknown\\\",\\\"Unnamed: 1\\\":\\\"Yes\\\"},{\\\"Reported Deaths \\\\u2013 April 7, 2020\\\":\\\"Male 70s Norfolk\\\",\\\"Cases\\\":\\\"Unknown\\\",\\\"Unnamed: 1\\\":\\\"Unknown\\\"},{\\\"Reported Deaths \\\\u2013 April 7, 2020\\\":\\\"Male 70s Norfolk\\\",\\\"Cases\\\":\\\"Unknown\\\",\\\"Unnamed: 1\\\":\\\"Yes\\\"},{\\\"Reported Deaths \\\\u2013 April 7, 2020\\\":\\\"Female 70s Middlesex\\\",\\\"Cases\\\":\\\"Yes\\\",\\\"Unnamed: 1\\\":\\\"Yes\\\"},{\\\"Reported Deaths \\\\u2013 April 7, 2020\\\":\\\"Male 70s Hampden\\\",\\\"Cases\\\":\\\"Yes\\\",\\\"Unnamed: 1\\\":\\\"Yes\\\"},{\\\"Reported Deaths \\\\u2013 April 7, 2020\\\":\\\"Female 70s Middlesex\\\",\\\"Cases\\\":\\\"Unknown\\\",\\\"Unnamed: 1\\\":\\\"Unknown\\\"},{\\\"Reported Deaths \\\\u2013 April 7, 2020\\\":\\\"Male 70s Hampden\\\",\\\"Cases\\\":\\\"Yes\\\",\\\"Unnamed: 1\\\":\\\"Yes\\\"},{\\\"Reported Deaths \\\\u2013 April 7, 2020\\\":\\\"Male 70s Middlesex\\\",\\\"Cases\\\":\\\"Yes\\\",\\\"Unnamed: 1\\\":\\\"Yes\\\"}]\"]\n"
     ]
    }
   ],
   "source": [
    "url = \"https://www.mass.gov/info-details/covid-19-cases-quarantine-and-monitoring#covid-19-cases-in-massachusetts-\"\n",
    "rootURL = \"https://www.mass.gov\"\n",
    "response = requests.get(url)\n",
    "content = BeautifulSoup(response.content, \"html.parser\")\n",
    "template_path = \"covid-19-case-report.tabula-template.json\"\n",
    "for _,link in enumerate(content('a')):\n",
    "    if link.has_attr('href'):\n",
    "        if link.get('href').endswith('/download'):\n",
    "            if link.string.endswith('2020'):\n",
    "                r = requests.get(rootURL + link.get('href'))\n",
    "                with open('COVID_data.pdf', 'wb') as outfile:\n",
    "                    outfile.write(r.content)\n",
    "                parsedData = tabula.read_pdf_with_template('COVID_data.pdf', template_path, stream=True)\n",
    "                for i,table in enumerate(parsedData):\n",
    "                    table.dropna(inplace=True)\n",
    "                    table.rename(columns={'Total Patients':'Total Patients Positive'}, inplace=True)\n",
    "                    table.rename(columns={'Unnamed: 0':'Cases'}, inplace=True)\n",
    "                    print(table.to_json(orient='records'))"
   ]
  },
  {
   "cell_type": "code",
   "execution_count": null,
   "metadata": {},
   "outputs": [],
   "source": [
    "url = \"https://www.cdc.gov/coronavirus/2019-ncov/cases-updates/cases-in-us.html\"\n",
    "response = requests.get(url)\n",
    "content = BeautifulSoup(response.content, \"html.parser\")\n",
    "finalData = []\n",
    "for _,data in enumerate(content('li')):\n",
    "    if data.string is not None:\n",
    "        if data.string.startswith('Total'):\n",
    "            finalData.append(data.string)\n",
    "        if data.string.startswith('Jurisdictions'):\n",
    "            finalData.append(data.string)\n",
    "print(json.dumps(finalData))    "
   ]
  },
  {
   "cell_type": "code",
   "execution_count": 3,
   "metadata": {},
   "outputs": [
    {
     "name": "stdout",
     "output_type": "stream",
     "text": [
      "\n",
      "\n"
     ]
    }
   ],
   "source": [
    "url = \"https://who.sprinklr.com/\"\n",
    "sess = dryscrape.Session()\n",
    "sess.visit(url)\n",
    "content = BeautifulSoup(sess.body(), \"html.parser\")\n",
    "finalData = []\n",
    "for _,data in enumerate(content(\"span\")):\n",
    "    if data.has_attr(\"class\"):\n",
    "        print(data)\n",
    "        if data.get('class') == 'sc-fzomME bXmPtT':\n",
    "            print(data)"
   ]
  }
 ],
 "metadata": {
  "kernelspec": {
   "display_name": "Python 3",
   "language": "python",
   "name": "python3"
  },
  "language_info": {
   "codemirror_mode": {
    "name": "ipython",
    "version": 3
   },
   "file_extension": ".py",
   "mimetype": "text/x-python",
   "name": "python",
   "nbconvert_exporter": "python",
   "pygments_lexer": "ipython3",
   "version": "3.7.5"
  }
 },
 "nbformat": 4,
 "nbformat_minor": 2
}
